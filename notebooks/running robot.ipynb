{
 "cells": [
  {
   "cell_type": "markdown",
   "id": "8a7fe233",
   "metadata": {
    "toc": true
   },
   "source": [
    "<h1><span class=\"tocSkip\"></span></h1>\n",
    "<div class=\"toc\"><ul class=\"toc-item\"></ul></div>"
   ]
  },
  {
   "cell_type": "code",
   "execution_count": 5,
   "id": "664ae8df",
   "metadata": {},
   "outputs": [],
   "source": [
    "import numpy as np\n",
    "import time\n",
    "\n",
    "# local stuff\n",
    "import sys\n",
    "# sys.path.append('..')\n",
    "# import stembrain\n",
    "\n",
    "# # initialize body parts\n",
    "# spine = stembrain.Spine()\n",
    "\n",
    "\n",
    "desired_position = np.array([0, 0, 0], dtype=np.int16)\n",
    "force = np.array([0, 0, 0])\n",
    "farce_calibration = np.array([109, 110, 111])"
   ]
  },
  {
   "cell_type": "code",
   "execution_count": 53,
   "id": "98dcd643",
   "metadata": {},
   "outputs": [],
   "source": [
    "import matplotlib.pyplot as plt\n",
    "\n",
    "# Create plot\n",
    "def plot_coordinates(arr):\n",
    "\n",
    "    # Create array of x-y coordinates\n",
    "    xy_coords = arr\n",
    "\n",
    "    # Create lists of x and y coordinates\n",
    "    x_coords = [xy_coord[0] for xy_coord in xy_coords]\n",
    "    y_coords = [xy_coord[1] for xy_coord in xy_coords]\n",
    "\n",
    "    # Create plot\n",
    "    plt.plot(x_coords, y_coords)\n",
    "\n",
    "    # add numbering \n",
    "    num = 1\n",
    "    epsilon = 0.01\n",
    "    for val in arr:\n",
    "        plt.text(val[0] + epsilon, val[1] + epsilon, str(num))\n",
    "    num += 1\n",
    "\n",
    "    # Add labels and title\n",
    "    plt.xlim([-6,6])\n",
    "    plt.ylim([-6,6])\n",
    "    plt.xlabel('X Coordinates')\n",
    "    plt.ylabel('Y Coordinates')\n",
    "    plt.title('Motion of Object Through 10x10 Space')"
   ]
  },
  {
   "cell_type": "code",
   "execution_count": 6,
   "id": "4fc9c9e3",
   "metadata": {},
   "outputs": [
    {
     "name": "stdout",
     "output_type": "stream",
     "text": [
      "[0, 0, 0, 0, 0]\n",
      "desired position [99 47 47] readings_raw [0, 0, 0, 0, 0] force [-109. -110.  111.]\n",
      "[0, 0, 0, 0, 0]\n",
      "desired position [99 50 50] readings_raw [0, 0, 0, 0, 0] force [-109. -110.  111.]\n",
      "[0, 0, 0, 0, 0]\n",
      "desired position [99 53 53] readings_raw [0, 0, 0, 0, 0] force [-109. -110.  111.]\n",
      "[0, 0, 0, 0, 0]\n",
      "desired position [98 55 55] readings_raw [0, 0, 0, 0, 0] force [-109. -110.  111.]\n",
      "[0, 0, 0, 0, 0]\n",
      "desired position [97 58 58] readings_raw [0, 0, 0, 0, 0] force [-109. -110.  111.]\n",
      "[0, 0, 0, 0, 0]\n",
      "desired position [95 60 60] readings_raw [0, 0, 0, 0, 0] force [-109. -110.  111.]\n",
      "[0, 0, 0, 0, 0]\n",
      "desired position [92 63 63] readings_raw [0, 0, 0, 0, 0] force [-109. -110.  111.]\n",
      "[0, 0, 0, 0, 0]\n",
      "desired position [90 65 65] readings_raw [0, 0, 0, 0, 0] force [-109. -110.  111.]\n",
      "[0, 0, 0, 0, 0]\n",
      "desired position [86 68 68] readings_raw [0, 0, 0, 0, 0] force [-109. -110.  111.]\n",
      "[0, 0, 0, 0, 0]\n",
      "desired position [83 70 70] readings_raw [0, 0, 0, 0, 0] force [-109. -110.  111.]\n",
      "[0, 0, 0, 0, 0]\n",
      "desired position [79 72 72] readings_raw [0, 0, 0, 0, 0] force [-109. -110.  111.]\n",
      "[0, 0, 0, 0, 0]\n",
      "desired position [74 75 75] readings_raw [0, 0, 0, 0, 0] force [-109. -110.  111.]\n",
      "[0, 0, 0, 0, 0]\n",
      "desired position [69 77 77] readings_raw [0, 0, 0, 0, 0] force [-109. -110.  111.]\n",
      "[0, 0, 0, 0, 0]\n",
      "desired position [65 79 79] readings_raw [0, 0, 0, 0, 0] force [-109. -110.  111.]\n",
      "[0, 0, 0, 0, 0]\n",
      "desired position [60 81 81] readings_raw [0, 0, 0, 0, 0] force [-109. -110.  111.]\n",
      "[0, 0, 0, 0, 0]\n",
      "desired position [55 83 83] readings_raw [0, 0, 0, 0, 0] force [-109. -110.  111.]\n",
      "[0, 0, 0, 0, 0]\n",
      "desired position [49 85 85] readings_raw [0, 0, 0, 0, 0] force [-109. -110.  111.]\n",
      "[0, 0, 0, 0, 0]\n",
      "desired position [44 87 87] readings_raw [0, 0, 0, 0, 0] force [-109. -110.  111.]\n",
      "[0, 0, 0, 0, 0]\n",
      "desired position [39 88 88] readings_raw [0, 0, 0, 0, 0] force [-109. -110.  111.]\n",
      "[0, 0, 0, 0, 0]\n",
      "desired position [34 90 90] readings_raw [0, 0, 0, 0, 0] force [-109. -110.  111.]\n",
      "[0, 0, 0, 0, 0]\n",
      "desired position [29 91 91] readings_raw [0, 0, 0, 0, 0] force [-109. -110.  111.]\n",
      "[0, 0, 0, 0, 0]\n",
      "desired position [24 93 93] readings_raw [0, 0, 0, 0, 0] force [-109. -110.  111.]\n",
      "[0, 0, 0, 0, 0]\n",
      "desired position [20 94 94] readings_raw [0, 0, 0, 0, 0] force [-109. -110.  111.]\n",
      "[0, 0, 0, 0, 0]\n",
      "desired position [16 95 95] readings_raw [0, 0, 0, 0, 0] force [-109. -110.  111.]\n",
      "[0, 0, 0, 0, 0]\n",
      "desired position [12 96 96] readings_raw [0, 0, 0, 0, 0] force [-109. -110.  111.]\n",
      "[0, 0, 0, 0, 0]\n",
      "desired position [ 9 97 97] readings_raw [0, 0, 0, 0, 0] force [-109. -110.  111.]\n"
     ]
    },
    {
     "ename": "KeyboardInterrupt",
     "evalue": "",
     "output_type": "error",
     "traceback": [
      "\u001b[0;31m---------------------------------------------------------------------------\u001b[0m",
      "\u001b[0;31mKeyboardInterrupt\u001b[0m                         Traceback (most recent call last)",
      "Cell \u001b[0;32mIn[6], line 4\u001b[0m\n\u001b[1;32m      1\u001b[0m \u001b[38;5;66;03m# main superloop\u001b[39;00m\n\u001b[1;32m      2\u001b[0m \u001b[38;5;28;01mwhile\u001b[39;00m \u001b[38;5;28;01mTrue\u001b[39;00m:\n\u001b[1;32m      3\u001b[0m     \u001b[38;5;66;03m# --- heartbeat\u001b[39;00m\n\u001b[0;32m----> 4\u001b[0m     \u001b[43mtime\u001b[49m\u001b[38;5;241;43m.\u001b[39;49m\u001b[43msleep\u001b[49m\u001b[43m(\u001b[49m\u001b[38;5;241;43m0.1\u001b[39;49m\u001b[43m)\u001b[49m\n\u001b[1;32m      6\u001b[0m     \u001b[38;5;66;03m# --- calculations go here\u001b[39;00m\n\u001b[1;32m      7\u001b[0m     desired_position[\u001b[38;5;241m0\u001b[39m] \u001b[38;5;241m=\u001b[39m \u001b[38;5;241m50\u001b[39m \u001b[38;5;241m*\u001b[39m (\u001b[38;5;241m1\u001b[39m\u001b[38;5;241m+\u001b[39mnp\u001b[38;5;241m.\u001b[39mcos(time\u001b[38;5;241m.\u001b[39mtime()))\n",
      "\u001b[0;31mKeyboardInterrupt\u001b[0m: "
     ]
    }
   ],
   "source": [
    "# main superloop\n",
    "while True:\n",
    "    # --- heartbeat\n",
    "    time.sleep(0.1)\n",
    "\n",
    "    # --- calculations go here\n",
    "    desired_position[0] = 50 * (1+np.cos(time.time()))\n",
    "    desired_position[1] = 50 * (1+np.sin(0.5*time.time()))\n",
    "    desired_position[2] = 50 * (1+np.sin(0.5*time.time()))\n",
    "\n",
    "    # --- Send motion commands to robot and receive sensor readings\n",
    "#     readings_raw = spine.communicate(np.concatenate([np.clip(desired_position,0,100), [-1]]))\n",
    "    readings_raw = [0,0,0,0,0]\n",
    "    print(readings_raw)\n",
    "    if isinstance(readings_raw, int):\n",
    "        print('ERROR: no readings')\n",
    "    else:\n",
    "        # --- calculate force from readings\n",
    "        force = (np.array(readings_raw[0:3])-farce_calibration) * 1.0\n",
    "        force[2] = -force[2] \n",
    "    \n",
    "    # --- print readings\n",
    "    print('desired position', desired_position, 'readings_raw', readings_raw, 'force', force)"
   ]
  },
  {
   "cell_type": "code",
   "execution_count": 9,
   "id": "0fddf243",
   "metadata": {},
   "outputs": [],
   "source": [
    "from langchain.prompts import PromptTemplate\n",
    "from langchain.llms import OpenAI\n",
    "from langchain.chains import LLMChain\n",
    "\n",
    "llm = OpenAI(temperature=0.9)"
   ]
  },
  {
   "cell_type": "code",
   "execution_count": 14,
   "id": "0e576108",
   "metadata": {},
   "outputs": [],
   "source": [
    "benchmark_questions =[\n",
    "    {'Question': \"What is your name?\", 'Answer': \"speak(\\\"My name is Dude.\\\")\"},\n",
    "    {'Question': \"Draw a triangle. You are at position [-2, -2]\", 'Answer': \"[waypoint_motion([-2, 2], 1, \\\"continue\\\"),waypoint_motion([2, 0], 1, \\\"continue\\\"),waypoint_motion([-2, -2], 1, \\\"continue\\\")]\"},\n",
    "    {'Question': \"Move slow to the left. You are at position [1, 1]\", 'Answer': \"[waypoint_motion([3, 1], 0.5, \\\"continue\\\")]\"},\n",
    "    {'Question': \"Go home fast.\", 'Answer': \"[waypoint_motion([-5, -5], 2, \\\"continue\\\")]\"},\n",
    "    {'Question': \"Touch the object. Object is at [-1, 1]\", 'Answer': \"[waypoint_motion([3, 1], 1, \\\"stop\\\")]\"}, # tricky to give object position example in training data since it then thinks it knows the object position\n",
    "    {'Question': \"Move the object to the right. You are at position [1, 1]. Object is at [-1, -1]\", 'Answer': \"[waypoint_motion([1, -1],1, \\\"continue\\\"), waypoint_motion([-2, -1], 1, \\\"continue\\\")]\"}, \n",
    "    ]\n",
    "\n",
    "intro = '''You are a robot and you can listen and speak and you can move in 2 dimensions x and y, positive x is left. \n",
    "Your motion limits are from +5 to -5. \n",
    "Your velocity range is 0.5 to 2.\n",
    "You have a touch sensor that reports 1 if you are touching something and 0 if not. \n",
    "There might be one object somewhere in your space.\n",
    "You can do the following actions:\n",
    "- waypoint_motion([x, y], velocity, touch_trigger), where x and y are the coordinates you want to go to and velocity is how fast you want to go there. and touch_trigger can be \"stop\" or \"continue\" depending on if you want to stop when you touch something or not.\n",
    "- speak(\"text\"), where text is the text you want to say.\n",
    "\n",
    "Example:\n",
    "{example}\n",
    "\n",
    "Task:\n",
    "{task}\n",
    "Answer:\n",
    "'''"
   ]
  },
  {
   "cell_type": "code",
   "execution_count": 15,
   "id": "256cebb8",
   "metadata": {},
   "outputs": [],
   "source": [
    "prompt = PromptTemplate(\n",
    "    input_variables=[\"example\", \"task\"],\n",
    "    template=intro\n",
    ")"
   ]
  },
  {
   "cell_type": "code",
   "execution_count": 16,
   "id": "c5e07b23",
   "metadata": {},
   "outputs": [
    {
     "data": {
      "text/plain": [
       "[{'Question': 'What is your name?', 'Answer': 'speak(\"My name is Dude.\")'},\n",
       " {'Question': 'Draw a triangle. You are at position [-2, -2]',\n",
       "  'Answer': '[waypoint_motion([-2, 2], 1, \"continue\"),waypoint_motion([2, 0], 1, \"continue\"),waypoint_motion([-2, -2], 1, \"continue\")]'},\n",
       " {'Question': 'Move slow to the left. You are at position [1, 1]',\n",
       "  'Answer': '[waypoint_motion([3, 1], 0.5, \"continue\")]'},\n",
       " {'Question': 'Go home fast.',\n",
       "  'Answer': '[waypoint_motion([-5, -5], 2, \"continue\")]'},\n",
       " {'Question': 'Touch the object. Object is at [-1, 1]',\n",
       "  'Answer': '[waypoint_motion([3, 1], 1, \"stop\")]'},\n",
       " {'Question': 'Move the object to the right. You are at position [1, 1]. Object is at [-1, -1]',\n",
       "  'Answer': '[waypoint_motion([1, -1],1, \"continue\"), waypoint_motion([-2, -1], 1, \"continue\")]'}]"
      ]
     },
     "execution_count": 16,
     "metadata": {},
     "output_type": "execute_result"
    }
   ],
   "source": [
    "benchmark_questions[-2]"
   ]
  },
  {
   "cell_type": "code",
   "execution_count": 21,
   "id": "73cdc4f3",
   "metadata": {},
   "outputs": [],
   "source": [
    "example = \"Task: {task}\\n Answer:{answer}\".format(task=benchmark_questions[-2][\"Question\"], answer=benchmark_questions[-2][\"Answer\"])"
   ]
  },
  {
   "cell_type": "code",
   "execution_count": 26,
   "id": "3e657bc3",
   "metadata": {},
   "outputs": [
    {
     "data": {
      "text/plain": [
       "'Task: Touch the object. Object is at [-1, 1]\\n Answer:[waypoint_motion([3, 1], 1, \"stop\")]'"
      ]
     },
     "execution_count": 26,
     "metadata": {},
     "output_type": "execute_result"
    }
   ],
   "source": [
    "example"
   ]
  },
  {
   "cell_type": "code",
   "execution_count": 27,
   "id": "315c3686",
   "metadata": {},
   "outputs": [
    {
     "data": {
      "text/plain": [
       "'Move the object to the right. You are at position [1, 1]. Object is at [-1, -1]'"
      ]
     },
     "execution_count": 27,
     "metadata": {},
     "output_type": "execute_result"
    }
   ],
   "source": [
    "benchmark_questions[-1][\"Question\"]"
   ]
  },
  {
   "cell_type": "code",
   "execution_count": 22,
   "id": "fba4a805",
   "metadata": {},
   "outputs": [
    {
     "name": "stdout",
     "output_type": "stream",
     "text": [
      "Answer:[waypoint_motion([-1, -1], 2, \"continue\")]\n"
     ]
    }
   ],
   "source": [
    "chain = LLMChain(llm=llm, prompt=prompt)\n",
    "print(chain.run(example=example, task=benchmark_questions[-1][\"Question\"]))"
   ]
  },
  {
   "cell_type": "code",
   "execution_count": 41,
   "id": "54719076",
   "metadata": {},
   "outputs": [],
   "source": [
    "simple_prompt = \"\"\"You are controlling a robotic arm in 2 dimensions x and y. \n",
    "Positive x is right, positive y is up.\n",
    "Your position limits are from -5 to 5.\n",
    "You have a touch sensor that reports 1 if you are touching something and 0 if not.\n",
    "\n",
    "Example 1:\n",
    "{example1}\n",
    "\n",
    "Example 2:\n",
    "{example2}\n",
    "\n",
    "Current position:{current_position}\n",
    "Task: {task}\n",
    "Output:\"\"\""
   ]
  },
  {
   "cell_type": "code",
   "execution_count": 61,
   "id": "85f45376",
   "metadata": {},
   "outputs": [],
   "source": [
    "class LLMInterface:\n",
    "    def __init__(self):\n",
    "        self.model = OpenAI(temperature=0.9)\n",
    "        \n",
    "    @staticmethod\n",
    "    def process_examples(example_list):\n",
    "\n",
    "        example_string = \"\"\n",
    "        for i, example in enumerate(example_list):\n",
    "            example_string += f\"\"\"Example {i}:\n",
    "            {example}\\n\\n\n",
    "            \"\"\"\n",
    "        return example_string\n",
    "    \n",
    "    def prompt(self, template, **kwargs):\n",
    "        if 'examples' in kwargs:\n",
    "            kwargs['example'] = self.process_examples(kwargs['examples'])\n",
    "            del kwargs['examples']\n",
    "\n",
    "            return PromptTemplate(\n",
    "                input_variables=list(kwargs.keys()),\n",
    "                template=template\n",
    "            )\n",
    "        \n",
    "    def run(self, prompt, **kwargs):\n",
    "        if not isinstance(prompt, PromptTemplate):\n",
    "            prompt = self.prompt(prompt, **kwargs)\n",
    "        \n",
    "        chain = LLMChain(llm=self.model, prompt=prompt)\n",
    "        return chain.run(**kwargs)\n",
    "        \n",
    "        "
   ]
  },
  {
   "cell_type": "code",
   "execution_count": 44,
   "id": "81de67a4",
   "metadata": {},
   "outputs": [],
   "source": [
    "prompt = PromptTemplate(\n",
    "    input_variables=[\"current_position\", \"example1\", \"example2\", \"task\"],\n",
    "    template=simple_prompt\n",
    ")\n",
    "\n",
    "chain = LLMChain(llm=llm, prompt=prompt)"
   ]
  },
  {
   "cell_type": "markdown",
   "id": "76bd82ef",
   "metadata": {},
   "source": [
    "Inputs to robot\n",
    "- X and Y target\n",
    "- velocity\n",
    "- stop on touch\n",
    "\n",
    "Inputs to commands\n",
    "- current position\n",
    "- is touching\n",
    "\n",
    "\n",
    "Steps\n",
    "- Input command from voice\n",
    "- Turn voice into command in text\n",
    "- If it is an action command -> generate action\n",
    "- If it is a speech command -> generate speech\n",
    "- If action, then execute and then wait for instructions."
   ]
  },
  {
   "cell_type": "code",
   "execution_count": null,
   "id": "91907a67",
   "metadata": {},
   "outputs": [],
   "source": []
  },
  {
   "cell_type": "code",
   "execution_count": null,
   "id": "ebfcc69f",
   "metadata": {},
   "outputs": [],
   "source": []
  },
  {
   "cell_type": "code",
   "execution_count": null,
   "id": "8eedc6a7",
   "metadata": {},
   "outputs": [],
   "source": []
  },
  {
   "cell_type": "code",
   "execution_count": null,
   "id": "5be5ba04",
   "metadata": {},
   "outputs": [],
   "source": []
  },
  {
   "cell_type": "code",
   "execution_count": 88,
   "id": "87a3d6fd",
   "metadata": {},
   "outputs": [],
   "source": []
  },
  {
   "cell_type": "code",
   "execution_count": 76,
   "id": "01217f3a",
   "metadata": {},
   "outputs": [],
   "source": [
    "def classify_action_or_speech(command):\n",
    "\n",
    "    command_type_prompt = \"\"\"You are trying to determine if a given command is to take a physical action or respond using speech.\n",
    "\n",
    "    Command: What is the weather today?\n",
    "    Type: Speech\n",
    "\n",
    "    Command: Move to the right slowly\n",
    "    Type: Action\n",
    "\n",
    "    Command: Why did you stop?\n",
    "    Type: Speech\n",
    "\n",
    "    Command: {command}\n",
    "    Type:\"\"\"\n",
    "\n",
    "    llm = OpenAI(temperature=0.9)\n",
    "    type_prompt = PromptTemplate(template=command_type_prompt, input_variables=[\"command\"])\n",
    "    llm_chain = LLMChain(llm=llm, prompt=type_prompt)\n",
    "\n",
    "    return llm_chain.run(command=command).strip().lower()\n",
    "\n",
    "def reply_to_speech(command, current_position, stop_on_touch):\n",
    "    speech_prompt = \"\"\"\n",
    "    You are the brain of a robotic arm in 2 dimensions x and y. \n",
    "    Positive x is right, positive y is up.\n",
    "    Your position limits are from -5 to 5.\n",
    "    You have a touch sensor that reports 1 if you are touching something and 0 if not.\n",
    "    \n",
    "    Current State:\n",
    "    Position: {current_position}\n",
    "    Is touching object: {stop_on_touch}\n",
    "    \n",
    "    Use this information to answer the following command. \n",
    "    If the command is not related to this information, answer it the best you can.\n",
    "\n",
    "    Command: {command}\n",
    "    Answer:\"\"\"\n",
    "\n",
    "    llm = OpenAI(temperature=0.9)\n",
    "    type_prompt = PromptTemplate(\n",
    "        template=speech_prompt,\n",
    "        input_variables=[\"current_position\", \"stop_on_touch\", \"command\"],\n",
    "    )\n",
    "    llm_chain = LLMChain(llm=llm, prompt=type_prompt)\n",
    "    return (\n",
    "        llm_chain.run(\n",
    "            current_position=current_position,\n",
    "            stop_on_touch=stop_on_touch,\n",
    "            command=command,\n",
    "        )\n",
    "        .strip()\n",
    "        .lower()\n",
    "    )"
   ]
  },
  {
   "cell_type": "code",
   "execution_count": 87,
   "id": "1c590135",
   "metadata": {},
   "outputs": [
    {
     "data": {
      "text/plain": [
       "'northern california typically has mild winters and warm or hot summers, depending on the location. the region can experience strong, gusty winds and fog in the coastal areas, and heavy snowfall in the mountain areas.'"
      ]
     },
     "execution_count": 87,
     "metadata": {},
     "output_type": "execute_result"
    }
   ],
   "source": [
    "reply_to_speech(\n",
    "    \"What is the weather like in northern california?\",\n",
    "    current_position=\"(5,5)\",\n",
    "    stop_on_touch=\"False\"\n",
    ")"
   ]
  },
  {
   "cell_type": "code",
   "execution_count": 94,
   "id": "ac6dce41",
   "metadata": {},
   "outputs": [],
   "source": [
    "simple_prompt = \"\"\"You are controlling a robotic arm in 2 dimensions x and y. \n",
    "Positive x is right, positive y is up.\n",
    "Your position limits are from -5 to 5.\n",
    "You velocity limits are 0 to 1.\n",
    "Stop on touch is 1 for True or 0 for False.\n",
    "You have a touch sensor that reports 1 if you are touching something and 0 if not.\n",
    "For any task, return an array of the form [[(x position, y position)], velocity, stop on touch]\n",
    "\n",
    "{examples}\n",
    "\n",
    "Current position:{current_position}\n",
    "Is touching object: {touch}\n",
    "Task: {task}\n",
    "Output:\"\"\""
   ]
  },
  {
   "cell_type": "code",
   "execution_count": null,
   "id": "14111016",
   "metadata": {},
   "outputs": [],
   "source": [
    "example1=\"\"\"\n",
    "Current position: (0, 0)\n",
    "Task: Move a little to the right\n",
    "Output: [(2, 0)]\n",
    "\"\"\"\n",
    "\n",
    "example2=\"\"\"\n",
    "Current position: (0, 0)\n",
    "Task: Trace out a small square\n",
    "Output: [(2, 0), (2, 2), (0, 2), (0, 0)]\n",
    "\"\"\""
   ]
  },
  {
   "cell_type": "code",
   "execution_count": 95,
   "id": "a3d8c87f",
   "metadata": {},
   "outputs": [],
   "source": [
    "examples = [\n",
    "    \"\"\"Current position: (0, 0)\n",
    "Is touching object: False\n",
    "Task: Move to the right until you hit an object.\n",
    "Output: [[(5, 0)], 0.5, 1]\n",
    "\"\"\",\n",
    "    \"\"\"Current position:(0, 0)\n",
    "Is touching object: False\n",
    "Task: Trace out a small square quickly.\n",
    "Output:[[(2, 0), (2, 2), (0, 2), (0, 0)], 1, 0]\"\"\",\n",
    "    \"\"\"Current position: (-5, 0)\n",
    "Is touching object: True\n",
    "Task: Move left slowly.\n",
    "Output:[[(-5, 0)], 0.1, 0]\"\"\"\n",
    "]"
   ]
  },
  {
   "cell_type": "code",
   "execution_count": 96,
   "id": "ab279df2",
   "metadata": {},
   "outputs": [],
   "source": [
    "def process_examples(example_list):\n",
    "\n",
    "    example_string = \"\"\n",
    "    for i, example in enumerate(example_list):\n",
    "        example_string += f\"\"\"Example {i}:\n",
    "        {example}\\n\\n\n",
    "        \"\"\"\n",
    "    return example_string"
   ]
  },
  {
   "cell_type": "code",
   "execution_count": 108,
   "id": "0bbeb0a0",
   "metadata": {},
   "outputs": [],
   "source": [
    "prompt = PromptTemplate(\n",
    "    input_variables=[\"current_position\", \"examples\", \"task\", \"touch\"],\n",
    "    template=simple_prompt\n",
    ")\n",
    "\n",
    "example_string = process_examples(examples)\n",
    "chain = LLMChain(llm=llm, prompt=prompt)\n",
    "\n",
    "results = chain.run(\n",
    "    current_position=\"(5, 0)\",\n",
    "    examples=example_string,\n",
    "    task=\"Go to the center of the area and draw a line up and down\",\n",
    "    touch=\"False\"\n",
    ")"
   ]
  },
  {
   "cell_type": "code",
   "execution_count": 109,
   "id": "9259be02",
   "metadata": {},
   "outputs": [
    {
     "data": {
      "text/plain": [
       "[[(0, 0), (0, 5), (0, -5)], 0.5, 0]"
      ]
     },
     "execution_count": 109,
     "metadata": {},
     "output_type": "execute_result"
    }
   ],
   "source": [
    "python_results = eval(results)\n",
    "python_results"
   ]
  },
  {
   "cell_type": "code",
   "execution_count": 110,
   "id": "0ac89118",
   "metadata": {},
   "outputs": [],
   "source": [
    "coords, velocity, sot = python_results"
   ]
  },
  {
   "cell_type": "code",
   "execution_count": 111,
   "id": "40d8e4c2",
   "metadata": {},
   "outputs": [
    {
     "data": {
      "image/png": "[encoded data removed]",
      "text/plain": [
       "<Figure size 640x480 with 1 Axes>"
      ]
     },
     "metadata": {},
     "output_type": "display_data"
    }
   ],
   "source": [
    "plot_coordinates(coords)"
   ]
  },
  {
   "cell_type": "code",
   "execution_count": 62,
   "id": "113bbc20",
   "metadata": {},
   "outputs": [],
   "source": [
    "llm = LLMInterface()"
   ]
  },
  {
   "cell_type": "code",
   "execution_count": 63,
   "id": "91819bed",
   "metadata": {},
   "outputs": [
    {
     "ename": "ValidationError",
     "evalue": "1 validation error for PromptTemplate\n__root__\n  Invalid prompt schema. (type=value_error)",
     "output_type": "error",
     "traceback": [
      "\u001b[0;31m---------------------------------------------------------------------------\u001b[0m",
      "\u001b[0;31mValidationError\u001b[0m                           Traceback (most recent call last)",
      "Cell \u001b[0;32mIn[63], line 1\u001b[0m\n\u001b[0;32m----> 1\u001b[0m \u001b[43mllm\u001b[49m\u001b[38;5;241;43m.\u001b[39;49m\u001b[43mrun\u001b[49m\u001b[43m(\u001b[49m\n\u001b[1;32m      2\u001b[0m \u001b[43m    \u001b[49m\u001b[43msimple_prompt\u001b[49m\u001b[43m,\u001b[49m\u001b[43m \u001b[49m\n\u001b[1;32m      3\u001b[0m \u001b[43m    \u001b[49m\u001b[43mcurrent_position\u001b[49m\u001b[38;5;241;43m=\u001b[39;49m\u001b[38;5;124;43m\"\u001b[39;49m\u001b[38;5;124;43m(5, 0)\u001b[39;49m\u001b[38;5;124;43m\"\u001b[39;49m\u001b[43m,\u001b[49m\n\u001b[1;32m      4\u001b[0m \u001b[43m    \u001b[49m\u001b[43mexamples\u001b[49m\u001b[38;5;241;43m=\u001b[39;49m\u001b[43mexample1\u001b[49m\u001b[43m,\u001b[49m\n\u001b[1;32m      5\u001b[0m \u001b[43m    \u001b[49m\u001b[43mexample2\u001b[49m\u001b[38;5;241;43m=\u001b[39;49m\u001b[43mexample2\u001b[49m\u001b[43m,\u001b[49m\n\u001b[1;32m      6\u001b[0m \u001b[43m    \u001b[49m\u001b[43mtask\u001b[49m\u001b[38;5;241;43m=\u001b[39;49m\u001b[38;5;124;43m\"\u001b[39;49m\u001b[38;5;124;43mTrace out a smooth circle\u001b[39;49m\u001b[38;5;124;43m\"\u001b[39;49m\n\u001b[1;32m      7\u001b[0m \n\u001b[1;32m      8\u001b[0m \u001b[43m)\u001b[49m\n",
      "Cell \u001b[0;32mIn[61], line 27\u001b[0m, in \u001b[0;36mLLMInterface.run\u001b[0;34m(self, prompt, **kwargs)\u001b[0m\n\u001b[1;32m     25\u001b[0m \u001b[38;5;28;01mdef\u001b[39;00m \u001b[38;5;21mrun\u001b[39m(\u001b[38;5;28mself\u001b[39m, prompt, \u001b[38;5;241m*\u001b[39m\u001b[38;5;241m*\u001b[39mkwargs):\n\u001b[1;32m     26\u001b[0m     \u001b[38;5;28;01mif\u001b[39;00m \u001b[38;5;129;01mnot\u001b[39;00m \u001b[38;5;28misinstance\u001b[39m(prompt, PromptTemplate):\n\u001b[0;32m---> 27\u001b[0m         prompt \u001b[38;5;241m=\u001b[39m \u001b[38;5;28;43mself\u001b[39;49m\u001b[38;5;241;43m.\u001b[39;49m\u001b[43mprompt\u001b[49m\u001b[43m(\u001b[49m\u001b[43mprompt\u001b[49m\u001b[43m,\u001b[49m\u001b[43m \u001b[49m\u001b[38;5;241;43m*\u001b[39;49m\u001b[38;5;241;43m*\u001b[39;49m\u001b[43mkwargs\u001b[49m\u001b[43m)\u001b[49m\n\u001b[1;32m     29\u001b[0m     chain \u001b[38;5;241m=\u001b[39m LLMChain(llm\u001b[38;5;241m=\u001b[39m\u001b[38;5;28mself\u001b[39m\u001b[38;5;241m.\u001b[39mmodel, prompt\u001b[38;5;241m=\u001b[39mprompt)\n\u001b[1;32m     30\u001b[0m     \u001b[38;5;28;01mreturn\u001b[39;00m chain\u001b[38;5;241m.\u001b[39mrun(\u001b[38;5;241m*\u001b[39m\u001b[38;5;241m*\u001b[39mkwargs)\n",
      "Cell \u001b[0;32mIn[61], line 20\u001b[0m, in \u001b[0;36mLLMInterface.prompt\u001b[0;34m(self, template, **kwargs)\u001b[0m\n\u001b[1;32m     17\u001b[0m kwargs[\u001b[38;5;124m'\u001b[39m\u001b[38;5;124mexample\u001b[39m\u001b[38;5;124m'\u001b[39m] \u001b[38;5;241m=\u001b[39m \u001b[38;5;28mself\u001b[39m\u001b[38;5;241m.\u001b[39mprocess_examples(kwargs[\u001b[38;5;124m'\u001b[39m\u001b[38;5;124mexamples\u001b[39m\u001b[38;5;124m'\u001b[39m])\n\u001b[1;32m     18\u001b[0m \u001b[38;5;28;01mdel\u001b[39;00m kwargs[\u001b[38;5;124m'\u001b[39m\u001b[38;5;124mexamples\u001b[39m\u001b[38;5;124m'\u001b[39m]\n\u001b[0;32m---> 20\u001b[0m \u001b[38;5;28;01mreturn\u001b[39;00m \u001b[43mPromptTemplate\u001b[49m\u001b[43m(\u001b[49m\n\u001b[1;32m     21\u001b[0m \u001b[43m    \u001b[49m\u001b[43minput_variables\u001b[49m\u001b[38;5;241;43m=\u001b[39;49m\u001b[38;5;28;43mlist\u001b[39;49m\u001b[43m(\u001b[49m\u001b[43mkwargs\u001b[49m\u001b[38;5;241;43m.\u001b[39;49m\u001b[43mkeys\u001b[49m\u001b[43m(\u001b[49m\u001b[43m)\u001b[49m\u001b[43m)\u001b[49m\u001b[43m,\u001b[49m\n\u001b[1;32m     22\u001b[0m \u001b[43m    \u001b[49m\u001b[43mtemplate\u001b[49m\u001b[38;5;241;43m=\u001b[39;49m\u001b[43mtemplate\u001b[49m\n\u001b[1;32m     23\u001b[0m \u001b[43m\u001b[49m\u001b[43m)\u001b[49m\n",
      "File \u001b[0;32m~/.pyenv/versions/3.8.11/envs/start/lib/python3.8/site-packages/pydantic/main.py:342\u001b[0m, in \u001b[0;36mpydantic.main.BaseModel.__init__\u001b[0;34m()\u001b[0m\n",
      "\u001b[0;31mValidationError\u001b[0m: 1 validation error for PromptTemplate\n__root__\n  Invalid prompt schema. (type=value_error)"
     ]
    }
   ],
   "source": [
    "llm.run(\n",
    "    simple_prompt, \n",
    "    current_position=\"(5, 0)\",\n",
    "    examples=example1,\n",
    "    example2=example2,\n",
    "    task=\"Trace out a smooth circle\"\n",
    "\n",
    ")"
   ]
  },
  {
   "cell_type": "code",
   "execution_count": null,
   "id": "67d3c1ef",
   "metadata": {},
   "outputs": [],
   "source": []
  }
 ],
 "metadata": {
  "kernelspec": {
   "display_name": "Python 3 (ipykernel)",
   "language": "python",
   "name": "python3"
  },
  "language_info": {
   "codemirror_mode": {
    "name": "ipython",
    "version": 3
   },
   "file_extension": ".py",
   "mimetype": "text/x-python",
   "name": "python",
   "nbconvert_exporter": "python",
   "pygments_lexer": "ipython3",
   "version": "3.8.11"
  },
  "toc": {
   "base_numbering": 1,
   "nav_menu": {},
   "number_sections": true,
   "sideBar": true,
   "skip_h1_title": false,
   "title_cell": "",
   "title_sidebar": "Contents",
   "toc_cell": true,
   "toc_position": {},
   "toc_section_display": true,
   "toc_window_display": false
  }
 },
 "nbformat": 4,
 "nbformat_minor": 5
}
