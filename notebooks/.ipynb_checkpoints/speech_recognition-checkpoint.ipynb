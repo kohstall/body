{
 "cells": [
  {
   "cell_type": "markdown",
   "id": "c9df95d7",
   "metadata": {
    "toc": true
   },
   "source": [
    "<h1><span class=\"tocSkip\"></span></h1>\n",
    "<div class=\"toc\"><ul class=\"toc-item\"></ul></div>"
   ]
  },
  {
   "cell_type": "code",
   "execution_count": 3,
   "id": "bec2002f",
   "metadata": {},
   "outputs": [],
   "source": []
  },
  {
   "cell_type": "code",
   "execution_count": 5,
   "id": "89fc0005",
   "metadata": {},
   "outputs": [],
   "source": []
  },
  {
   "cell_type": "code",
   "execution_count": 45,
   "id": "e9229cb2",
   "metadata": {},
   "outputs": [
    {
     "name": "stdout",
     "output_type": "stream",
     "text": [
      "Recording...\n"
     ]
    },
    {
     "data": {
      "text/html": [
       "<pre style=\"white-space:pre;overflow-x:auto;line-height:normal;font-family:Menlo,'DejaVu Sans Mono',consolas,'Courier New',monospace\"><span style=\"color: #800000; text-decoration-color: #800000\">╭─────────────────────────────── </span><span style=\"color: #800000; text-decoration-color: #800000; font-weight: bold\">Traceback </span><span style=\"color: #bf7f7f; text-decoration-color: #bf7f7f; font-weight: bold\">(most recent call last)</span><span style=\"color: #800000; text-decoration-color: #800000\"> ────────────────────────────────╮</span>\n",
       "<span style=\"color: #800000; text-decoration-color: #800000\">│</span> <span style=\"color: #bfbf7f; text-decoration-color: #bfbf7f\">/var/folders/8w/r6kg1v9x7bbfzf9dw9gjslc80000gn/T/ipykernel_17338/</span><span style=\"color: #808000; text-decoration-color: #808000; font-weight: bold\">172768589.py</span>:<span style=\"color: #0000ff; text-decoration-color: #0000ff\">22</span> in <span style=\"color: #00ff00; text-decoration-color: #00ff00\">&lt;module&gt;</span>     <span style=\"color: #800000; text-decoration-color: #800000\">│</span>\n",
       "<span style=\"color: #800000; text-decoration-color: #800000\">│</span>                                                                                                  <span style=\"color: #800000; text-decoration-color: #800000\">│</span>\n",
       "<span style=\"color: #800000; text-decoration-color: #800000\">│</span>                                                                                                  <span style=\"color: #800000; text-decoration-color: #800000\">│</span>\n",
       "<span style=\"color: #800000; text-decoration-color: #800000\">│</span> <span style=\"color: #bfbf7f; text-decoration-color: #bfbf7f\">/Users/spencerbraun/.pyenv/versions/3.8.11/envs/start/lib/python3.8/site-packages/pyaudio/</span><span style=\"color: #808000; text-decoration-color: #808000; font-weight: bold\">__init</span> <span style=\"color: #800000; text-decoration-color: #800000\">│</span>\n",
       "<span style=\"color: #800000; text-decoration-color: #800000\">│</span> <span style=\"color: #808000; text-decoration-color: #808000; font-weight: bold\">__.py</span>:<span style=\"color: #0000ff; text-decoration-color: #0000ff\">570</span> in <span style=\"color: #00ff00; text-decoration-color: #00ff00\">read</span>                                                                                <span style=\"color: #800000; text-decoration-color: #800000\">│</span>\n",
       "<span style=\"color: #800000; text-decoration-color: #800000\">│</span>                                                                                                  <span style=\"color: #800000; text-decoration-color: #800000\">│</span>\n",
       "<span style=\"color: #800000; text-decoration-color: #800000\">│</span>   <span style=\"color: #7f7f7f; text-decoration-color: #7f7f7f\"> 569 │   │   │   │   │   │   │     </span>paCanNotReadFromAnOutputOnlyStream)                         <span style=\"color: #800000; text-decoration-color: #800000\">│</span>\n",
       "<span style=\"color: #800000; text-decoration-color: #800000\">│</span> <span style=\"color: #800000; text-decoration-color: #800000\">❱ </span> 570 <span style=\"color: #7f7f7f; text-decoration-color: #7f7f7f\">│   │   │   </span><span style=\"color: #0000ff; text-decoration-color: #0000ff\">return</span> pa.read_stream(<span style=\"color: #00ffff; text-decoration-color: #00ffff\">self</span>._stream, num_frames,                               <span style=\"color: #800000; text-decoration-color: #800000\">│</span>\n",
       "<span style=\"color: #800000; text-decoration-color: #800000\">│</span>   <span style=\"color: #7f7f7f; text-decoration-color: #7f7f7f\"> 571 │   │   │   │   │   │   │   │     </span>exception_on_overflow)                                  <span style=\"color: #800000; text-decoration-color: #800000\">│</span>\n",
       "<span style=\"color: #800000; text-decoration-color: #800000\">╰──────────────────────────────────────────────────────────────────────────────────────────────────╯</span>\n",
       "<span style=\"color: #ff0000; text-decoration-color: #ff0000; font-weight: bold\">KeyboardInterrupt</span>\n",
       "</pre>\n"
      ],
      "text/plain": [
       "\u001b[31m╭─\u001b[0m\u001b[31m──────────────────────────────\u001b[0m\u001b[31m \u001b[0m\u001b[1;31mTraceback \u001b[0m\u001b[1;2;31m(most recent call last)\u001b[0m\u001b[31m \u001b[0m\u001b[31m───────────────────────────────\u001b[0m\u001b[31m─╮\u001b[0m\n",
       "\u001b[31m│\u001b[0m \u001b[2;33m/var/folders/8w/r6kg1v9x7bbfzf9dw9gjslc80000gn/T/ipykernel_17338/\u001b[0m\u001b[1;33m172768589.py\u001b[0m:\u001b[94m22\u001b[0m in \u001b[92m<module>\u001b[0m     \u001b[31m│\u001b[0m\n",
       "\u001b[31m│\u001b[0m                                                                                                  \u001b[31m│\u001b[0m\n",
       "\u001b[31m│\u001b[0m                                                                                                  \u001b[31m│\u001b[0m\n",
       "\u001b[31m│\u001b[0m \u001b[2;33m/Users/spencerbraun/.pyenv/versions/3.8.11/envs/start/lib/python3.8/site-packages/pyaudio/\u001b[0m\u001b[1;33m__init\u001b[0m \u001b[31m│\u001b[0m\n",
       "\u001b[31m│\u001b[0m \u001b[1;33m__.py\u001b[0m:\u001b[94m570\u001b[0m in \u001b[92mread\u001b[0m                                                                                \u001b[31m│\u001b[0m\n",
       "\u001b[31m│\u001b[0m                                                                                                  \u001b[31m│\u001b[0m\n",
       "\u001b[31m│\u001b[0m   \u001b[2m 569 \u001b[0m\u001b[2m│   │   │   │   │   │   │     \u001b[0mpaCanNotReadFromAnOutputOnlyStream)                         \u001b[31m│\u001b[0m\n",
       "\u001b[31m│\u001b[0m \u001b[31m❱ \u001b[0m 570 \u001b[2m│   │   │   \u001b[0m\u001b[94mreturn\u001b[0m pa.read_stream(\u001b[96mself\u001b[0m._stream, num_frames,                               \u001b[31m│\u001b[0m\n",
       "\u001b[31m│\u001b[0m   \u001b[2m 571 \u001b[0m\u001b[2m│   │   │   │   │   │   │   │     \u001b[0mexception_on_overflow)                                  \u001b[31m│\u001b[0m\n",
       "\u001b[31m╰──────────────────────────────────────────────────────────────────────────────────────────────────╯\u001b[0m\n",
       "\u001b[1;91mKeyboardInterrupt\u001b[0m\n"
      ]
     },
     "metadata": {},
     "output_type": "display_data"
    }
   ],
   "source": [
    "import pyaudio\n",
    "from pydub import AudioSegment\n",
    "\n",
    "# Initialize pyaudio\n",
    "p = pyaudio.PyAudio()\n",
    "\n",
    "# Set the audio parameters\n",
    "channels = 1\n",
    "sample_rate = 44100\n",
    "frame_size = 100\n",
    "\n",
    "# Start recording\n",
    "stream = p.open(format=pyaudio.paInt16,\n",
    "                channels=channels,\n",
    "                rate=sample_rate,\n",
    "                input=True,\n",
    "                frames_per_buffer=frame_size)\n",
    "\n",
    "print(\"Recording...\")\n",
    "frames = []\n",
    "for i in range(0, int(sample_rate / frame_size * 10)):\n",
    "    data = stream.read(frame_size)\n",
    "    frames.append(data)\n",
    "\n",
    "# Stop recording\n",
    "stream.stop_stream()\n",
    "stream.close()\n",
    "p.terminate()\n",
    "\n",
    "print(\"Finished recording\")\n",
    "\n",
    "# Save the audio data as an mp3 file\n",
    "audio_data = b''.join(frames)\n",
    "audio = AudioSegment(\n",
    "    audio_data,\n",
    "    frame_rate=sample_rate,\n",
    "    sample_width=2,\n",
    "    channels=channels\n",
    ")\n",
    "audio.export(\"recording.mp3\", format=\"mp3\")\n"
   ]
  },
  {
   "cell_type": "code",
   "execution_count": 1,
   "id": "35ce2cb5",
   "metadata": {},
   "outputs": [
    {
     "name": "stderr",
     "output_type": "stream",
     "text": [
      "100%|███████████████████████████████████████| 461M/461M [00:16<00:00, 29.9MiB/s]\n"
     ]
    }
   ],
   "source": [
    "import whisper\n",
    "model = whisper.load_model(\"small\")\n",
    "\n",
    "# load audio and pad/trim it to fit 30 seconds\n",
    "audio = whisper.load_audio(\"recording.mp3\")"
   ]
  },
  {
   "cell_type": "code",
   "execution_count": 29,
   "id": "9c4fd970",
   "metadata": {},
   "outputs": [
    {
     "data": {
      "text/html": [
       "\n",
       "                    <audio controls>\n",
       "                        <source src=\"data:audio/mpeg;base64,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\" type=\"audio/mpeg\"/>\n",
       "                        Your browser does not support the audio element.\n",
       "                    </audio>\n",
       "                  "
      ],
      "text/plain": [
       "<pydub.audio_segment.AudioSegment at 0x2c79964c0>"
      ]
     },
     "execution_count": 29,
     "metadata": {},
     "output_type": "execute_result"
    }
   ],
   "source": [
    "audio"
   ]
  },
  {
   "cell_type": "code",
   "execution_count": 24,
   "id": "e752866a",
   "metadata": {},
   "outputs": [],
   "source": [
    "import whisper\n",
    "import modal\n",
    "import gradio as gr\n",
    "from pathlib import Path\n",
    "stub = modal.Stub(\"whisper-transcribe\")\n",
    "app_image = (\n",
    "    modal.Image.debian_slim()\n",
    "    .pip_install(\n",
    "        \"https://github.com/openai/whisper/archive/9f70a352f9f8630ab3aa0d06af5cb9532bd8c21d.tar.gz\",\n",
    "        \"dacite\",\n",
    "        \"jiwer\",\n",
    "        \"ffmpeg-python\",\n",
    "        \"gql[all]~=3.0.0a5\",\n",
    "        \"pandas\",\n",
    "        \"loguru==0.6.0\",\n",
    "        \"torchaudio==0.12.1\",\n",
    "        \"pydub\"\n",
    "    )\n",
    "    .apt_install(\"ffmpeg\")\n",
    "    .pip_install(\"ffmpeg-python\")\n",
    ")\n",
    "\n",
    "volume = modal.SharedVolume().persist(\"whisper-modal\")\n",
    "MODEL_DIR = Path(\"/model\")\n",
    "\n",
    "@stub.function(\n",
    "    gpu=\"t4\",\n",
    "    image=app_image,\n",
    "    timeout=100,\n",
    "    shared_volumes={\n",
    "        str(MODEL_DIR): volume,  # fine-tuned model will be stored at `MODEL_DIR`\n",
    "    },\n",
    ")\n",
    "def transcribe(audio):\n",
    "    import torch\n",
    "    use_gpu = torch.cuda.is_available()\n",
    "    device = \"cuda\" if use_gpu else \"cpu\"\n",
    "    model = whisper.load_model(\"small\", device=device, download_root=MODEL_DIR)\n",
    "    audio = whisper.pad_or_trim(audio)\n",
    "\n",
    "    # make log-Mel spectrogram and move to the same device as the model\n",
    "    mel = whisper.log_mel_spectrogram(audio).to(model.device)\n",
    "\n",
    "    # detect the spoken language\n",
    "    _, probs = model.detect_language(mel)\n",
    "    print(f\"Detected language: {max(probs, key=probs.get)}\")\n",
    "\n",
    "    # decode the audio\n",
    "    options = whisper.DecodingOptions(fp16 = False)\n",
    "    result = whisper.decode(model, mel, options)\n",
    "    return result.text"
   ]
  },
  {
   "cell_type": "code",
   "execution_count": 30,
   "id": "ec3ae62d",
   "metadata": {},
   "outputs": [
    {
     "data": {
      "text/html": [
       "<pre style=\"white-space:pre;overflow-x:auto;line-height:normal;font-family:Menlo,'DejaVu Sans Mono',consolas,'Courier New',monospace\"></pre>\n"
      ],
      "text/plain": [
       "\u001b[?25l"
      ]
     },
     "metadata": {},
     "output_type": "display_data"
    },
    {
     "data": {
      "application/vnd.jupyter.widget-view+json": {
       "model_id": "",
       "version_major": 2,
       "version_minor": 0
      },
      "text/plain": [
       "Output()"
      ]
     },
     "metadata": {},
     "output_type": "display_data"
    },
    {
     "data": {
      "text/html": [
       "<pre style=\"white-space:pre;overflow-x:auto;line-height:normal;font-family:Menlo,'DejaVu Sans Mono',consolas,'Courier New',monospace\">\n",
       "</pre>\n"
      ],
      "text/plain": [
       "\n",
       "\u001b[?25h\r",
       "\u001b[1A\u001b[2K"
      ]
     },
     "metadata": {},
     "output_type": "display_data"
    },
    {
     "data": {
      "text/html": [
       "<pre style=\"white-space:pre;overflow-x:auto;line-height:normal;font-family:Menlo,'DejaVu Sans Mono',consolas,'Courier New',monospace\"><span style=\"color: #008000; text-decoration-color: #008000\">✓</span> Initialized. <span style=\"color: #b2b2b2; text-decoration-color: #b2b2b2\">View app at </span><span style=\"color: #b2b2b2; text-decoration-color: #b2b2b2; text-decoration: underline\">https://modal.com/apps/ap-OMDStZ1unCqv4Ep3CGC21R</span>\n",
       "</pre>\n"
      ],
      "text/plain": [
       "\u001b[32m✓\u001b[0m Initialized. \u001b[38;5;249mView app at \u001b[0m\u001b[4;38;5;249mhttps://modal.com/apps/ap-OMDStZ1unCqv4Ep3CGC21R\u001b[0m\n"
      ]
     },
     "metadata": {},
     "output_type": "display_data"
    },
    {
     "data": {
      "text/html": [
       "<pre style=\"white-space:pre;overflow-x:auto;line-height:normal;font-family:Menlo,'DejaVu Sans Mono',consolas,'Courier New',monospace\"></pre>\n"
      ],
      "text/plain": [
       "\u001b[?25l"
      ]
     },
     "metadata": {},
     "output_type": "display_data"
    },
    {
     "data": {
      "application/vnd.jupyter.widget-view+json": {
       "model_id": "",
       "version_major": 2,
       "version_minor": 0
      },
      "text/plain": [
       "Output()"
      ]
     },
     "metadata": {},
     "output_type": "display_data"
    },
    {
     "data": {
      "text/html": [
       "<pre style=\"white-space:pre;overflow-x:auto;line-height:normal;font-family:Menlo,'DejaVu Sans Mono',consolas,'Courier New',monospace\">\n",
       "</pre>\n"
      ],
      "text/plain": [
       "\n",
       "\u001b[?25h\r",
       "\u001b[1A\u001b[2K\u001b[1A\u001b[2K"
      ]
     },
     "metadata": {},
     "output_type": "display_data"
    },
    {
     "data": {
      "text/html": [
       "<pre style=\"white-space:pre;overflow-x:auto;line-height:normal;font-family:Menlo,'DejaVu Sans Mono',consolas,'Courier New',monospace\"><span style=\"color: #008000; text-decoration-color: #008000\">✓</span> Created objects.\n",
       "<span style=\"color: #808080; text-decoration-color: #808080\">└── </span><span style=\"color: #008000; text-decoration-color: #008000\">🔨</span> Created transcribe.\n",
       "</pre>\n"
      ],
      "text/plain": [
       "\u001b[32m✓\u001b[0m Created objects.\n",
       "\u001b[38;5;244m└── \u001b[0m\u001b[32m🔨\u001b[0m Created transcribe.\n"
      ]
     },
     "metadata": {},
     "output_type": "display_data"
    },
    {
     "data": {
      "text/html": [
       "<pre style=\"white-space:pre;overflow-x:auto;line-height:normal;font-family:Menlo,'DejaVu Sans Mono',consolas,'Courier New',monospace\"></pre>\n"
      ],
      "text/plain": [
       "\u001b[?25l"
      ]
     },
     "metadata": {},
     "output_type": "display_data"
    },
    {
     "data": {
      "application/vnd.jupyter.widget-view+json": {
       "model_id": "",
       "version_major": 2,
       "version_minor": 0
      },
      "text/plain": [
       "Output()"
      ]
     },
     "metadata": {},
     "output_type": "display_data"
    },
    {
     "data": {
      "text/html": [
       "<pre style=\"white-space:pre;overflow-x:auto;line-height:normal;font-family:Menlo,'DejaVu Sans Mono',consolas,'Courier New',monospace\"><span style=\"color: #000080; text-decoration-color: #000080\">Detected language: en\n",
       "⠋ Running (1/1 containers active)...</span></pre>\n"
      ],
      "text/plain": [
       "\r",
       "\u001b[2K\u001b[34mDetected language: en\n",
       "\u001b[0m\u001b[34m⠋\u001b[0m\u001b[34m \u001b[0m\u001b[34mRunning (1/1 containers active)...\u001b[0m"
      ]
     },
     "metadata": {},
     "output_type": "display_data"
    },
    {
     "data": {
      "text/html": [
       "<pre style=\"white-space:pre;overflow-x:auto;line-height:normal;font-family:Menlo,'DejaVu Sans Mono',consolas,'Courier New',monospace\">\n",
       "</pre>\n"
      ],
      "text/plain": [
       "\n",
       "\u001b[?25h\r",
       "\u001b[1A\u001b[2K"
      ]
     },
     "metadata": {},
     "output_type": "display_data"
    },
    {
     "data": {
      "text/html": [
       "<pre style=\"white-space:pre;overflow-x:auto;line-height:normal;font-family:Menlo,'DejaVu Sans Mono',consolas,'Courier New',monospace\"><span style=\"color: #008000; text-decoration-color: #008000\">✓</span> App completed.\n",
       "</pre>\n"
      ],
      "text/plain": [
       "\u001b[32m✓\u001b[0m App completed.\n"
      ]
     },
     "metadata": {},
     "output_type": "display_data"
    }
   ],
   "source": [
    "audio = whisper.load_audio(\"recording.mp3\")\n",
    "with stub.run():\n",
    "    result = transcribe.call(audio)"
   ]
  },
  {
   "cell_type": "code",
   "execution_count": 31,
   "id": "029e93fe",
   "metadata": {},
   "outputs": [
    {
     "data": {
      "text/plain": [
       "\"testing, recording, and I'm still talking, and it's just open for a frame size of 100.\""
      ]
     },
     "execution_count": 31,
     "metadata": {},
     "output_type": "execute_result"
    }
   ],
   "source": [
    "result"
   ]
  },
  {
   "cell_type": "code",
   "execution_count": 36,
   "id": "9a29ee45",
   "metadata": {},
   "outputs": [
    {
     "name": "stdout",
     "output_type": "stream",
     "text": [
      "result2:\n",
      "{   'alternative': [   {   'confidence': 0.74288338,\n",
      "                           'transcript': 'right exciting attention'},\n",
      "                       {'transcript': 'exciting attention'},\n",
      "                       {'transcript': 'right excited attention'},\n",
      "                       {'transcript': 'excited attention'},\n",
      "                       {'transcript': \"right I think I'm excited attention\"}],\n",
      "    'final': True}\n",
      "Google Speech Recognition thinks you said right exciting attention\n"
     ]
    }
   ],
   "source": [
    "stop_listening??"
   ]
  },
  {
   "cell_type": "code",
   "execution_count": 43,
   "id": "f82d5517",
   "metadata": {},
   "outputs": [
    {
     "data": {
      "text/plain": [
       "<bound method Recognizer.recognize_whisper of <speech_recognition.Recognizer object at 0x2c7538ca0>>"
      ]
     },
     "execution_count": 43,
     "metadata": {},
     "output_type": "execute_result"
    }
   ],
   "source": [
    "r.recognize_whisper"
   ]
  },
  {
   "cell_type": "code",
   "execution_count": 44,
   "id": "cac50a1f",
   "metadata": {},
   "outputs": [
    {
     "data": {
      "text/html": [
       "<pre style=\"white-space:pre;overflow-x:auto;line-height:normal;font-family:Menlo,'DejaVu Sans Mono',consolas,'Courier New',monospace\"><span style=\"color: #800000; text-decoration-color: #800000\">╭─────────────────────────────── </span><span style=\"color: #800000; text-decoration-color: #800000; font-weight: bold\">Traceback </span><span style=\"color: #bf7f7f; text-decoration-color: #bf7f7f; font-weight: bold\">(most recent call last)</span><span style=\"color: #800000; text-decoration-color: #800000\"> ────────────────────────────────╮</span>\n",
       "<span style=\"color: #800000; text-decoration-color: #800000\">│</span> <span style=\"color: #bfbf7f; text-decoration-color: #bfbf7f\">/var/folders/8w/r6kg1v9x7bbfzf9dw9gjslc80000gn/T/ipykernel_17338/</span><span style=\"color: #808000; text-decoration-color: #808000; font-weight: bold\">2189133450.py</span>:<span style=\"color: #0000ff; text-decoration-color: #0000ff\">36</span> in <span style=\"color: #00ff00; text-decoration-color: #00ff00\">&lt;module&gt;</span>    <span style=\"color: #800000; text-decoration-color: #800000\">│</span>\n",
       "<span style=\"color: #800000; text-decoration-color: #800000\">│</span>                                                                                                  <span style=\"color: #800000; text-decoration-color: #800000\">│</span>\n",
       "<span style=\"color: #800000; text-decoration-color: #800000\">╰──────────────────────────────────────────────────────────────────────────────────────────────────╯</span>\n",
       "<span style=\"color: #ff0000; text-decoration-color: #ff0000; font-weight: bold\">KeyboardInterrupt</span>\n",
       "</pre>\n"
      ],
      "text/plain": [
       "\u001b[31m╭─\u001b[0m\u001b[31m──────────────────────────────\u001b[0m\u001b[31m \u001b[0m\u001b[1;31mTraceback \u001b[0m\u001b[1;2;31m(most recent call last)\u001b[0m\u001b[31m \u001b[0m\u001b[31m───────────────────────────────\u001b[0m\u001b[31m─╮\u001b[0m\n",
       "\u001b[31m│\u001b[0m \u001b[2;33m/var/folders/8w/r6kg1v9x7bbfzf9dw9gjslc80000gn/T/ipykernel_17338/\u001b[0m\u001b[1;33m2189133450.py\u001b[0m:\u001b[94m36\u001b[0m in \u001b[92m<module>\u001b[0m    \u001b[31m│\u001b[0m\n",
       "\u001b[31m│\u001b[0m                                                                                                  \u001b[31m│\u001b[0m\n",
       "\u001b[31m╰──────────────────────────────────────────────────────────────────────────────────────────────────╯\u001b[0m\n",
       "\u001b[1;91mKeyboardInterrupt\u001b[0m\n"
      ]
     },
     "metadata": {},
     "output_type": "display_data"
    }
   ],
   "source": [
    "\n",
    "import time\n",
    "\n",
    "import speech_recognition as sr\n",
    "\n",
    "\n",
    "# this is called from the background thread\n",
    "def callback(recognizer, audio):\n",
    "    # received audio data, now we'll recognize it using Google Speech Recognition\n",
    "    try:\n",
    "        # for testing purposes, we're just using the default API key\n",
    "        # to use another API key, use `r.recognize_google(audio, key=\"GOOGLE_SPEECH_RECOGNITION_API_KEY\")`\n",
    "        # instead of `r.recognize_google(audio)`\n",
    "        print(\"Google Speech Recognition thinks you said \" + recognizer.recognize_google(audio))\n",
    "    except sr.UnknownValueError:\n",
    "        print(\"Google Speech Recognition could not understand audio\")\n",
    "    except sr.RequestError as e:\n",
    "        print(\"Could not request results from Google Speech Recognition service; {0}\".format(e))\n",
    "\n",
    "\n",
    "r = sr.Recognizer()\n",
    "m = sr.Microphone()\n",
    "with m as source:\n",
    "    r.adjust_for_ambient_noise(source)  # we only need to calibrate once, before we start listening\n",
    "\n",
    "# start listening in the background (note that we don't have to do this inside a `with` statement)\n",
    "stop_listening = r.listen_in_background(m, callback)\n",
    "# `stop_listening` is now a function that, when called, stops background listening\n",
    "\n",
    "# do some unrelated computations for 5 seconds\n",
    "for _ in range(50): time.sleep(0.1)  # we're still listening even though the main thread is doing other things\n",
    "\n",
    "# calling this function requests that the background listener stop listening\n",
    "stop_listening(wait_for_stop=False)\n",
    "\n",
    "# do some more unrelated things\n",
    "while True: time.sleep(0.1)  "
   ]
  },
  {
   "cell_type": "code",
   "execution_count": 18,
   "id": "5e8af24e",
   "metadata": {},
   "outputs": [
    {
     "name": "stderr",
     "output_type": "stream",
     "text": [
      "/Users/spencerbraun/.pyenv/versions/3.8.11/envs/start/lib/python3.8/site-packages/gradio/inputs.py:319: UserWarning: Usage of gradio.inputs is deprecated, and will not be supported in the future, please import your components from gradio.components\n",
      "  warnings.warn(\n",
      "/Users/spencerbraun/.pyenv/versions/3.8.11/envs/start/lib/python3.8/site-packages/gradio/deprecation.py:40: UserWarning: `optional` parameter is deprecated, and it has no effect\n",
      "  warnings.warn(value)\n"
     ]
    },
    {
     "name": "stdout",
     "output_type": "stream",
     "text": [
      "Running on local URL:  http://127.0.0.1:7862\n",
      "\n",
      "To create a public link, set `share=True` in `launch()`.\n"
     ]
    },
    {
     "data": {
      "text/html": [
       "<div><iframe src=\"http://127.0.0.1:7862/\" width=\"100%\" height=\"500\" allow=\"autoplay; camera; microphone; clipboard-read; clipboard-write;\" frameborder=\"0\" allowfullscreen></iframe></div>"
      ],
      "text/plain": [
       "<IPython.core.display.HTML object>"
      ]
     },
     "metadata": {},
     "output_type": "display_data"
    },
    {
     "data": {
      "text/plain": []
     },
     "execution_count": 18,
     "metadata": {},
     "output_type": "execute_result"
    },
    {
     "name": "stderr",
     "output_type": "stream",
     "text": [
      "/Users/spencerbraun/.pyenv/versions/3.8.11/envs/start/lib/python3.8/site-packages/gradio/processing_utils.py:236: UserWarning: Trying to convert audio automatically from int32 to 16-bit int format.\n",
      "  warnings.warn(warning.format(data.dtype))\n",
      "/Users/spencerbraun/.pyenv/versions/3.8.11/envs/start/lib/python3.8/site-packages/anyio/_backends/_asyncio.py:867: DeprecationError: 2022-12-05: Calling a function directly is deprecated. Use f.call(...) instead. In a future version of Modal, f(...) will be used to call a function in the same process.\n",
      "  result = context.run(func, *args)\n",
      "Traceback (most recent call last):\n",
      "  File \"/Users/spencerbraun/.pyenv/versions/3.8.11/envs/start/lib/python3.8/site-packages/gradio/routes.py\", line 337, in run_predict\n",
      "    output = await app.get_blocks().process_api(\n",
      "  File \"/Users/spencerbraun/.pyenv/versions/3.8.11/envs/start/lib/python3.8/site-packages/gradio/blocks.py\", line 1015, in process_api\n",
      "    result = await self.call_function(\n",
      "  File \"/Users/spencerbraun/.pyenv/versions/3.8.11/envs/start/lib/python3.8/site-packages/gradio/blocks.py\", line 833, in call_function\n",
      "    prediction = await anyio.to_thread.run_sync(\n",
      "  File \"/Users/spencerbraun/.pyenv/versions/3.8.11/envs/start/lib/python3.8/site-packages/anyio/to_thread.py\", line 31, in run_sync\n",
      "    return await get_asynclib().run_sync_in_worker_thread(\n",
      "  File \"/Users/spencerbraun/.pyenv/versions/3.8.11/envs/start/lib/python3.8/site-packages/anyio/_backends/_asyncio.py\", line 937, in run_sync_in_worker_thread\n",
      "    return await future\n",
      "  File \"/Users/spencerbraun/.pyenv/versions/3.8.11/envs/start/lib/python3.8/site-packages/anyio/_backends/_asyncio.py\", line 867, in run\n",
      "    result = context.run(func, *args)\n",
      "  File \"/Users/spencerbraun/.pyenv/versions/3.8.11/envs/start/lib/python3.8/site-packages/synchronicity/synchronizer.py\", line 412, in proxy_method\n",
      "    raise uc_exc.exc from None\n",
      "  File \"/Users/spencerbraun/.pyenv/versions/3.8.11/envs/start/lib/python3.8/site-packages/modal/functions.py\", line 584, in call_function\n",
      "    client, object_id = self._get_context()\n",
      "  File \"/Users/spencerbraun/.pyenv/versions/3.8.11/envs/start/lib/python3.8/site-packages/modal/functions.py\", line 468, in _get_context\n",
      "    function_handle = self._get_live_handle()\n",
      "  File \"/Users/spencerbraun/.pyenv/versions/3.8.11/envs/start/lib/python3.8/site-packages/modal/functions.py\", line 457, in _get_live_handle\n",
      "    raise InvalidError(\n",
      "modal.exception.InvalidError: App is not running. You might need to put the function call inside a `with stub.run():` block.\n"
     ]
    }
   ],
   "source": [
    "\n",
    "    \n",
    "import gradio as gr\n",
    "\n",
    "gr.Interface(\n",
    "    title = 'OpenAI Whisper ASR Gradio Web UI', \n",
    "    fn=transcribe, \n",
    "    inputs=[\n",
    "        gr.inputs.Audio(source=\"microphone\", type=\"filepath\")\n",
    "    ],\n",
    "    outputs=[\n",
    "        \"textbox\"\n",
    "    ],\n",
    "    live=True).launch()\n"
   ]
  },
  {
   "cell_type": "code",
   "execution_count": null,
   "id": "ab647ad3",
   "metadata": {},
   "outputs": [],
   "source": []
  }
 ],
 "metadata": {
  "kernelspec": {
   "display_name": "Python 3 (ipykernel)",
   "language": "python",
   "name": "python3"
  },
  "language_info": {
   "codemirror_mode": {
    "name": "ipython",
    "version": 3
   },
   "file_extension": ".py",
   "mimetype": "text/x-python",
   "name": "python",
   "nbconvert_exporter": "python",
   "pygments_lexer": "ipython3",
   "version": "3.8.11"
  },
  "toc": {
   "base_numbering": 1,
   "nav_menu": {},
   "number_sections": true,
   "sideBar": true,
   "skip_h1_title": false,
   "title_cell": "",
   "title_sidebar": "Contents",
   "toc_cell": true,
   "toc_position": {},
   "toc_section_display": true,
   "toc_window_display": false
  }
 },
 "nbformat": 4,
 "nbformat_minor": 5
}
